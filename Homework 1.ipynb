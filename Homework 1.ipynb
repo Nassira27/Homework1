{
 "cells": [
  {
   "cell_type": "code",
   "execution_count": 74,
   "metadata": {},
   "outputs": [],
   "source": [
    "import pandas as pd\n",
    "import matplotlib.pyplot as plt\n",
    "import seaborn as sns "
   ]
  },
  {
   "cell_type": "code",
   "execution_count": 75,
   "metadata": {},
   "outputs": [],
   "source": [
    "df_w = pd.read_csv(\"WomensShoes.csv\")\n"
   ]
  },
  {
   "cell_type": "code",
   "execution_count": 76,
   "metadata": {},
   "outputs": [
    {
     "ename": "NameError",
     "evalue": "name 'df' is not defined",
     "output_type": "error",
     "traceback": [
      "\u001b[0;31m---------------------------------------------------------------------------\u001b[0m",
      "\u001b[0;31mNameError\u001b[0m                                 Traceback (most recent call last)",
      "\u001b[1;32m/workspace/Homework1/Homework 1.ipynb Cell 3\u001b[0m in \u001b[0;36m<cell line: 1>\u001b[0;34m()\u001b[0m\n\u001b[0;32m----> <a href='vscode-notebook-cell://nassira27-homework1-fnra4hfh1ae.ws-us59.gitpod.io/workspace/Homework1/Homework%201.ipynb#W2sdnNjb2RlLXJlbW90ZQ%3D%3D?line=0'>1</a>\u001b[0m df\u001b[39m.\u001b[39mhead()\n",
      "\u001b[0;31mNameError\u001b[0m: name 'df' is not defined"
     ]
    }
   ],
   "source": [
    "df.head()"
   ]
  },
  {
   "cell_type": "code",
   "execution_count": null,
   "metadata": {},
   "outputs": [
    {
     "data": {
      "text/plain": [
       "(array([8.300e+01, 1.550e+02, 3.760e+02, 8.500e+02, 2.013e+03, 1.053e+03,\n",
       "        1.525e+03, 1.797e+03, 5.790e+02, 6.360e+02, 3.000e+02, 3.360e+02,\n",
       "        3.100e+01, 6.000e+01, 3.100e+01, 7.000e+00, 7.400e+01, 3.900e+01,\n",
       "        1.000e+00, 1.500e+01, 1.200e+01, 1.300e+01, 4.000e+00, 2.000e+00,\n",
       "        3.000e+00, 0.000e+00, 0.000e+00, 0.000e+00, 0.000e+00, 0.000e+00,\n",
       "        0.000e+00, 0.000e+00, 0.000e+00, 0.000e+00, 0.000e+00, 0.000e+00,\n",
       "        0.000e+00, 0.000e+00, 0.000e+00, 0.000e+00, 1.000e+00, 0.000e+00,\n",
       "        0.000e+00, 0.000e+00, 0.000e+00, 0.000e+00, 0.000e+00, 0.000e+00,\n",
       "        0.000e+00, 4.000e+00]),\n",
       " array([  4.88  ,  11.9814,  19.0828,  26.1842,  33.2856,  40.387 ,\n",
       "         47.4884,  54.5898,  61.6912,  68.7926,  75.894 ,  82.9954,\n",
       "         90.0968,  97.1982, 104.2996, 111.401 , 118.5024, 125.6038,\n",
       "        132.7052, 139.8066, 146.908 , 154.0094, 161.1108, 168.2122,\n",
       "        175.3136, 182.415 , 189.5164, 196.6178, 203.7192, 210.8206,\n",
       "        217.922 , 225.0234, 232.1248, 239.2262, 246.3276, 253.429 ,\n",
       "        260.5304, 267.6318, 274.7332, 281.8346, 288.936 , 296.0374,\n",
       "        303.1388, 310.2402, 317.3416, 324.443 , 331.5444, 338.6458,\n",
       "        345.7472, 352.8486, 359.95  ]),\n",
       " <BarContainer object of 50 artists>)"
      ]
     },
     "execution_count": 8,
     "metadata": {},
     "output_type": "execute_result"
    },
    {
     "data": {
      "image/png": "[encoded data removed]",
      "text/plain": [
       "<Figure size 432x288 with 1 Axes>"
      ]
     },
     "metadata": {
      "needs_background": "light"
     },
     "output_type": "display_data"
    }
   ],
   "source": [
    "plt.hist(df[\"prices.amountMin\"], bins = 50 )"
   ]
  },
  {
   "cell_type": "code",
   "execution_count": null,
   "metadata": {},
   "outputs": [],
   "source": [
    "# Shoe prices Nassira"
   ]
  },
  {
   "cell_type": "code",
   "execution_count": null,
   "metadata": {},
   "outputs": [],
   "source": [
    "# initialize new dataframe\n",
    "brand_stats = pd.DataFrame()\n",
    "brand_stats['meanmax'] = df_w.groupby('brand').prices_amountMax.mean()\n",
    "brand_stats['meanmin'] = df_w.groupby('brand').prices_amountMin.mean()\n",
    "brand_stats['max'] = df_w.groupby('brand').prices_amountMax.max()\n",
    "brand_stats['min'] = df_w.groupby('brand').prices_amountMin.min()"
   ]
  },
  {
   "cell_type": "code",
   "execution_count": null,
   "metadata": {},
   "outputs": [],
   "source": [
    "brand_stats['spread'] = brand_stats['max'] - brand_stats['min'] "
   ]
  },
  {
   "cell_type": "code",
   "execution_count": null,
   "metadata": {},
   "outputs": [
    {
     "name": "stdout",
     "output_type": "stream",
     "text": [
      "Red Wing\n",
      "359.95\n"
     ]
    }
   ],
   "source": [
    "print (brand_stats['max'].idxmax())\n",
    "print (brand_stats['max'].max())"
   ]
  },
  {
   "cell_type": "code",
   "execution_count": null,
   "metadata": {},
   "outputs": [
    {
     "name": "stdout",
     "output_type": "stream",
     "text": [
      "Red Wing\n",
      "345.95\n"
     ]
    }
   ],
   "source": [
    "print (brand_stats['meanmax'].idxmax())\n",
    "print (brand_stats['meanmax'].max())"
   ]
  },
  {
   "cell_type": "markdown",
   "metadata": {},
   "source": [
    "#### on average Red wings shoe brand costs more."
   ]
  },
  {
   "cell_type": "code",
   "execution_count": null,
   "metadata": {},
   "outputs": [
    {
     "name": "stdout",
     "output_type": "stream",
     "text": [
      "Unbranded\n",
      "9.62\n"
     ]
    }
   ],
   "source": [
    "print (brand_stats['max'].idxmin())\n",
    "print (brand_stats['max'].min())"
   ]
  },
  {
   "cell_type": "code",
   "execution_count": null,
   "metadata": {},
   "outputs": [
    {
     "name": "stdout",
     "output_type": "stream",
     "text": [
      "Bogs\n",
      "0.0\n"
     ]
    }
   ],
   "source": [
    "print (brand_stats['spread'].idxmin())\n",
    "print (brand_stats['spread'].min())"
   ]
  },
  {
   "cell_type": "code",
   "execution_count": null,
   "metadata": {},
   "outputs": [
    {
     "name": "stdout",
     "output_type": "stream",
     "text": [
      "Nike\n",
      "134.95999999999998\n"
     ]
    }
   ],
   "source": [
    "print (brand_stats['spread'].idxmax())\n",
    "print (brand_stats['spread'].max())"
   ]
  },
  {
   "cell_type": "markdown",
   "metadata": {},
   "source": [
    "#### nike has the widest spread of prices. "
   ]
  },
  {
   "cell_type": "code",
   "execution_count": null,
   "metadata": {},
   "outputs": [
    {
     "data": {
      "text/html": [
       "<div>\n",
       "<style scoped>\n",
       "    .dataframe tbody tr th:only-of-type {\n",
       "        vertical-align: middle;\n",
       "    }\n",
       "\n",
       "    .dataframe tbody tr th {\n",
       "        vertical-align: top;\n",
       "    }\n",
       "\n",
       "    .dataframe thead th {\n",
       "        text-align: right;\n",
       "    }\n",
       "</style>\n",
       "<table border=\"1\" class=\"dataframe\">\n",
       "  <thead>\n",
       "    <tr style=\"text-align: right;\">\n",
       "      <th></th>\n",
       "      <th>meanmax</th>\n",
       "      <th>meanmin</th>\n",
       "      <th>max</th>\n",
       "      <th>min</th>\n",
       "      <th>spread</th>\n",
       "    </tr>\n",
       "    <tr>\n",
       "      <th>brand</th>\n",
       "      <th></th>\n",
       "      <th></th>\n",
       "      <th></th>\n",
       "      <th></th>\n",
       "      <th></th>\n",
       "    </tr>\n",
       "  </thead>\n",
       "  <tbody>\n",
       "    <tr>\n",
       "      <th>style charles by charles david</th>\n",
       "      <td>88.853556</td>\n",
       "      <td>60.382552</td>\n",
       "      <td>119.00</td>\n",
       "      <td>33.99</td>\n",
       "      <td>85.01</td>\n",
       "    </tr>\n",
       "    <tr>\n",
       "      <th>sugar</th>\n",
       "      <td>49.990000</td>\n",
       "      <td>34.458750</td>\n",
       "      <td>49.99</td>\n",
       "      <td>26.24</td>\n",
       "      <td>23.75</td>\n",
       "    </tr>\n",
       "    <tr>\n",
       "      <th>under armour</th>\n",
       "      <td>79.990000</td>\n",
       "      <td>67.262727</td>\n",
       "      <td>79.99</td>\n",
       "      <td>54.99</td>\n",
       "      <td>25.00</td>\n",
       "    </tr>\n",
       "    <tr>\n",
       "      <th>unionbay</th>\n",
       "      <td>47.990000</td>\n",
       "      <td>33.799091</td>\n",
       "      <td>49.99</td>\n",
       "      <td>14.99</td>\n",
       "      <td>35.00</td>\n",
       "    </tr>\n",
       "    <tr>\n",
       "      <th>vans</th>\n",
       "      <td>60.615000</td>\n",
       "      <td>55.729583</td>\n",
       "      <td>69.99</td>\n",
       "      <td>42.49</td>\n",
       "      <td>27.50</td>\n",
       "    </tr>\n",
       "  </tbody>\n",
       "</table>\n",
       "</div>"
      ],
      "text/plain": [
       "                                  meanmax    meanmin     max    min  spread\n",
       "brand                                                                      \n",
       "style charles by charles david  88.853556  60.382552  119.00  33.99   85.01\n",
       "sugar                           49.990000  34.458750   49.99  26.24   23.75\n",
       "under armour                    79.990000  67.262727   79.99  54.99   25.00\n",
       "unionbay                        47.990000  33.799091   49.99  14.99   35.00\n",
       "vans                            60.615000  55.729583   69.99  42.49   27.50"
      ]
     },
     "execution_count": 45,
     "metadata": {},
     "output_type": "execute_result"
    }
   ],
   "source": [
    "brand_stats.tail()"
   ]
  },
  {
   "cell_type": "code",
   "execution_count": null,
   "metadata": {},
   "outputs": [
    {
     "data": {
      "text/plain": [
       "(129, 4)"
      ]
     },
     "execution_count": 29,
     "metadata": {},
     "output_type": "execute_result"
    }
   ],
   "source": [
    "brand_stats.shape"
   ]
  },
  {
   "cell_type": "code",
   "execution_count": null,
   "metadata": {},
   "outputs": [
    {
     "data": {
      "text/plain": [
       "(array([0, 1, 2, 3, 4, 5, 6]),\n",
       " [Text(0, 0, 'Standard'),\n",
       "  Text(1, 0, 'Value'),\n",
       "  Text(2, 0, 'Expedited'),\n",
       "  Text(3, 0, 'FREE shipping available on 50 + orders'),\n",
       "  Text(4, 0, 'Freight'),\n",
       "  Text(5, 0, 'Free 2-Day shipping on orders over $50'),\n",
       "  Text(6, 0, 'This item qualifies for FREE SHIPPING!')])"
      ]
     },
     "execution_count": 69,
     "metadata": {},
     "output_type": "execute_result"
    },
    {
     "data": {
      "text/plain": [
       "<Figure size 288x288 with 0 Axes>"
      ]
     },
     "metadata": {},
     "output_type": "display_data"
    },
    {
     "data": {
      "image/png": "[encoded data removed]",
      "text/plain": [
       "<Figure size 360x360 with 1 Axes>"
      ]
     },
     "metadata": {
      "needs_background": "light"
     },
     "output_type": "display_data"
    }
   ],
   "source": [
    "plt.figure(figsize = (4,4))\n",
    "ax = sns.catplot(x= \"prices_shipping\", y=\"prices_amountMax\", data=df_w)\n",
    "plt.xticks(rotation=30)"
   ]
  },
  {
   "cell_type": "markdown",
   "metadata": {},
   "source": [
    "##### which shipping is most common?"
   ]
  },
  {
   "cell_type": "markdown",
   "metadata": {},
   "source": [
    "###### \n",
    "i have found that the brand red wing on average costs more. \n",
    "Nike has the widest spread of prices, and bogs has the lowest.\n",
    "Free shipping after $50+ on orders is the most common price for shipping"
   ]
  },
  {
   "cell_type": "code",
   "execution_count": null,
   "metadata": {},
   "outputs": [
    {
     "name": "stdout",
     "output_type": "stream",
     "text": [
      "0                                          NaN\n",
      "1                                     Standard\n",
      "2                                        Value\n",
      "3                                        Value\n",
      "4                                    Expedited\n",
      "                         ...                  \n",
      "9995    Free 2-Day shipping on orders over $50\n",
      "9996    Free 2-Day shipping on orders over $50\n",
      "9997    Free 2-Day shipping on orders over $50\n",
      "9998    Free 2-Day shipping on orders over $50\n",
      "9999    Free 2-Day shipping on orders over $50\n",
      "Name: prices_shipping, Length: 10000, dtype: object\n"
     ]
    }
   ],
   "source": [
    "print (df_w['prices_shipping'])"
   ]
  },
  {
   "cell_type": "code",
   "execution_count": null,
   "metadata": {},
   "outputs": [
    {
     "name": "stdout",
     "output_type": "stream",
     "text": [
      "Index(['id', 'dateAdded', 'dateUpdated', 'asins', 'brand', 'categories',\n",
      "       'primaryCategories', 'colors', 'dimension', 'ean', 'imageURLs', 'keys',\n",
      "       'manufacturer', 'manufacturerNumber', 'name', 'prices_amountMax',\n",
      "       'prices_amountMin', 'prices.availability', 'prices.color',\n",
      "       'prices.condition', 'prices.currency', 'prices.dateAdded',\n",
      "       'prices.dateSeen', 'prices.isSale', 'prices.merchant', 'prices.offer',\n",
      "       'prices.returnPolicy', 'prices_shipping', 'prices.size',\n",
      "       'prices.sourceURLs', 'sizes', 'sourceURLs', 'upc', 'weight'],\n",
      "      dtype='object')\n"
     ]
    }
   ],
   "source": [
    "print(df_w.columns)"
   ]
  },
  {
   "cell_type": "code",
   "execution_count": null,
   "metadata": {},
   "outputs": [
    {
     "data": {
      "text/html": [
       "<div>\n",
       "<style scoped>\n",
       "    .dataframe tbody tr th:only-of-type {\n",
       "        vertical-align: middle;\n",
       "    }\n",
       "\n",
       "    .dataframe tbody tr th {\n",
       "        vertical-align: top;\n",
       "    }\n",
       "\n",
       "    .dataframe thead th {\n",
       "        text-align: right;\n",
       "    }\n",
       "</style>\n",
       "<table border=\"1\" class=\"dataframe\">\n",
       "  <thead>\n",
       "    <tr style=\"text-align: right;\">\n",
       "      <th></th>\n",
       "      <th>ean</th>\n",
       "      <th>prices_amountMax</th>\n",
       "      <th>prices_amountMin</th>\n",
       "      <th>prices.isSale</th>\n",
       "      <th>prices.returnPolicy</th>\n",
       "    </tr>\n",
       "  </thead>\n",
       "  <tbody>\n",
       "    <tr>\n",
       "      <th>ean</th>\n",
       "      <td>1.000000</td>\n",
       "      <td>-0.001929</td>\n",
       "      <td>0.043401</td>\n",
       "      <td>-0.329100</td>\n",
       "      <td>NaN</td>\n",
       "    </tr>\n",
       "    <tr>\n",
       "      <th>prices_amountMax</th>\n",
       "      <td>-0.001929</td>\n",
       "      <td>1.000000</td>\n",
       "      <td>0.699280</td>\n",
       "      <td>0.251044</td>\n",
       "      <td>NaN</td>\n",
       "    </tr>\n",
       "    <tr>\n",
       "      <th>prices_amountMin</th>\n",
       "      <td>0.043401</td>\n",
       "      <td>0.699280</td>\n",
       "      <td>1.000000</td>\n",
       "      <td>0.091174</td>\n",
       "      <td>NaN</td>\n",
       "    </tr>\n",
       "    <tr>\n",
       "      <th>prices.isSale</th>\n",
       "      <td>-0.329100</td>\n",
       "      <td>0.251044</td>\n",
       "      <td>0.091174</td>\n",
       "      <td>1.000000</td>\n",
       "      <td>NaN</td>\n",
       "    </tr>\n",
       "    <tr>\n",
       "      <th>prices.returnPolicy</th>\n",
       "      <td>NaN</td>\n",
       "      <td>NaN</td>\n",
       "      <td>NaN</td>\n",
       "      <td>NaN</td>\n",
       "      <td>NaN</td>\n",
       "    </tr>\n",
       "  </tbody>\n",
       "</table>\n",
       "</div>"
      ],
      "text/plain": [
       "                          ean  prices_amountMax  prices_amountMin  \\\n",
       "ean                  1.000000         -0.001929          0.043401   \n",
       "prices_amountMax    -0.001929          1.000000          0.699280   \n",
       "prices_amountMin     0.043401          0.699280          1.000000   \n",
       "prices.isSale       -0.329100          0.251044          0.091174   \n",
       "prices.returnPolicy       NaN               NaN               NaN   \n",
       "\n",
       "                     prices.isSale  prices.returnPolicy  \n",
       "ean                      -0.329100                  NaN  \n",
       "prices_amountMax          0.251044                  NaN  \n",
       "prices_amountMin          0.091174                  NaN  \n",
       "prices.isSale             1.000000                  NaN  \n",
       "prices.returnPolicy            NaN                  NaN  "
      ]
     },
     "execution_count": 46,
     "metadata": {},
     "output_type": "execute_result"
    }
   ],
   "source": [
    "df_w.corr()"
   ]
  }
 ],
 "metadata": {
  "kernelspec": {
   "display_name": "Python 3.8.13 64-bit ('shims')",
   "language": "python",
   "name": "python3"
  },
  "language_info": {
   "codemirror_mode": {
    "name": "ipython",
    "version": 3
   },
   "file_extension": ".py",
   "mimetype": "text/x-python",
   "name": "python",
   "nbconvert_exporter": "python",
   "pygments_lexer": "ipython3",
   "version": "3.8.13"
  },
  "vscode": {
   "interpreter": {
    "hash": "9ac03a0a6051494cc606d484d27d20fce22fb7b4d169f583271e11d5ba46a56e"
   }
  }
 },
 "nbformat": 4,
 "nbformat_minor": 2
}
